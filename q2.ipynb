{
 "cells": [
  {
   "cell_type": "code",
   "execution_count": 2,
   "id": "57cd7ac3",
   "metadata": {},
   "outputs": [
    {
     "name": "stdout",
     "output_type": "stream",
     "text": [
      "The maximum score you can obtain is: 12\n"
     ]
    }
   ],
   "source": [
    "# Function to calculate the maximum score\n",
    "def maxScore(cardPoints, k):\n",
    "    n = len(cardPoints)\n",
    "    \n",
    "    # Calculate the sum of the first k cards\n",
    "    initial_sum = sum(cardPoints[:k])\n",
    "    max_sum = initial_sum\n",
    "    \n",
    "    # Sliding window approach\n",
    "    window_sum = initial_sum\n",
    "    for i in range(k):\n",
    "        window_sum = window_sum - cardPoints[k - 1 - i] + cardPoints[n - 1 - i]\n",
    "        max_sum = max(max_sum, window_sum)\n",
    "    \n",
    "    return max_sum\n",
    "\n",
    "# Function to take user input\n",
    "def main():\n",
    "    # Taking input from the user for card points\n",
    "    cardPoints = []\n",
    "    n = int(input(\"Enter the number of cards: \"))\n",
    "    print(\"Enter the points for each card:\")\n",
    "    for i in range(n):\n",
    "        cardPoints.append(int(input()))\n",
    "    \n",
    "    # Taking input from the user for k\n",
    "    k = int(input(\"Enter the value of k: \"))\n",
    "    \n",
    "    # Calculating the maximum score\n",
    "    result = maxScore(cardPoints, k)\n",
    "    print(f\"The maximum score you can obtain is: {result}\")\n",
    "\n",
    "# Simulate input and execution in a Jupyter Notebook\n",
    "def jupyter_main(cardPoints, k):\n",
    "    result = maxScore(cardPoints, k)\n",
    "    print(f\"The maximum score you can obtain is: {result}\")\n",
    "\n",
    "# Example usage\n",
    "cardPoints = [1, 2, 3, 4, 5, 6, 1]\n",
    "k = 3\n",
    "jupyter_main(cardPoints, k)\n",
    "\n",
    "# Alternatively, you can uncomment the below lines to take inputs interactively in a Jupyter Notebook\n",
    "# cardPoints = list(map(int, input(\"Enter the points for each card (space-separated): \").split()))\n",
    "# k = int(input(\"Enter the value of k: \"))\n",
    "# jupyter_main(cardPoints, k)\n"
   ]
  },
  {
   "cell_type": "code",
   "execution_count": null,
   "id": "031e7fe9",
   "metadata": {},
   "outputs": [],
   "source": []
  },
  {
   "cell_type": "code",
   "execution_count": null,
   "id": "fa4ed2be",
   "metadata": {},
   "outputs": [],
   "source": []
  },
  {
   "cell_type": "code",
   "execution_count": null,
   "id": "358b7879",
   "metadata": {},
   "outputs": [],
   "source": []
  }
 ],
 "metadata": {
  "kernelspec": {
   "display_name": "Python 3 (ipykernel)",
   "language": "python",
   "name": "python3"
  },
  "language_info": {
   "codemirror_mode": {
    "name": "ipython",
    "version": 3
   },
   "file_extension": ".py",
   "mimetype": "text/x-python",
   "name": "python",
   "nbconvert_exporter": "python",
   "pygments_lexer": "ipython3",
   "version": "3.9.12"
  }
 },
 "nbformat": 4,
 "nbformat_minor": 5
}
