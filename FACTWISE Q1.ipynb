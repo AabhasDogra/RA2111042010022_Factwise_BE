{
 "cells": [
  {
   "cell_type": "code",
   "execution_count": 28,
   "id": "f000ed98",
   "metadata": {},
   "outputs": [
    {
     "name": "stdout",
     "output_type": "stream",
     "text": [
      "11\n"
     ]
    }
   ],
   "source": [
    "def number_to_word(n):\n",
    "    \"\"\"convert numbers to words\"\"\"\n",
    "    ones=[\"\",\"one\",\"two\",\"three\",\"four\",\"five\",\"six\",\"seven\",\"eight\",\"nine\",\"ten\",\"eleven\",\"twelve\",\"thirteen\",\"fourteen\",\"fifteen\",\"sixteen\",\"seventeen\",\"eighteen\",\"nineteen\",]\n",
    "    tens=[\"\",\"\",\"twenty\",\"thirty\",\"forty\",\"fifty\",\"sixty\",\"seventy\",\"eighty\",\"ninety\",]\n",
    "    if 1<=n<=20:\n",
    "        return ones[n]\n",
    "    elif 20<=n<100:\n",
    "        return tens[n//10]+ones[n%10]\n",
    "    elif 100<=n<1000:\n",
    "        if n % 100==0:\n",
    "            return ones[n//100]+\"hunderd\"\n",
    "        else:\n",
    "            return ones[n//100]+\"hunderd\"+number_to_words(n%100)\n",
    "    elif n==1000:\n",
    "        return \"onethousand\"\n",
    "def count_letter_in_number_words(limit):\n",
    "    total_letter=0\n",
    "    for i in range(1,limit+1):\n",
    "        words=number_to_word(limit)\n",
    "        words_without_spaces_or_hyphen=words.replace(\"\",\"\").replace(\"-\",\"\")\n",
    "        total_letter+=len(words_without_spaces_or_hyphen)\n",
    "        return total_letter\n",
    "total_letter_used=count_letter_in_number_words(1000)\n",
    "print(total_letter_used)"
   ]
  },
  {
   "cell_type": "code",
   "execution_count": null,
   "id": "69bd4292",
   "metadata": {},
   "outputs": [],
   "source": []
  }
 ],
 "metadata": {
  "kernelspec": {
   "display_name": "Python 3 (ipykernel)",
   "language": "python",
   "name": "python3"
  },
  "language_info": {
   "codemirror_mode": {
    "name": "ipython",
    "version": 3
   },
   "file_extension": ".py",
   "mimetype": "text/x-python",
   "name": "python",
   "nbconvert_exporter": "python",
   "pygments_lexer": "ipython3",
   "version": "3.9.12"
  }
 },
 "nbformat": 4,
 "nbformat_minor": 5
}
